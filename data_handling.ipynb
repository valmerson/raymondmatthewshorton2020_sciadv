{
 "cells": [
  {
   "cell_type": "code",
   "execution_count": 4,
   "metadata": {},
   "outputs": [
    {
     "name": "stdout",
     "output_type": "stream",
     "text": [
      "dict_keys(['longitude', 'latitude', 'cell_area'])\n",
      "[  0.     0.75   1.5    2.25   3.     3.75   4.5    5.25   6.     6.75\n",
      "   7.5    8.25   9.     9.75  10.5   11.25  12.    12.75  13.5   14.25\n",
      "  15.    15.75  16.5   17.25  18.    18.75  19.5   20.25  21.    21.75\n",
      "  22.5   23.25  24.    24.75  25.5   26.25  27.    27.75  28.5   29.25\n",
      "  30.    30.75  31.5   32.25  33.    33.75  34.5   35.25  36.    36.75\n",
      "  37.5   38.25  39.    39.75  40.5   41.25  42.    42.75  43.5   44.25\n",
      "  45.    45.75  46.5   47.25  48.    48.75  49.5   50.25  51.    51.75\n",
      "  52.5   53.25  54.    54.75  55.5   56.25  57.    57.75  58.5   59.25\n",
      "  60.    60.75  61.5   62.25  63.    63.75  64.5   65.25  66.    66.75\n",
      "  67.5   68.25  69.    69.75  70.5   71.25  72.    72.75  73.5   74.25\n",
      "  75.    75.75  76.5   77.25  78.    78.75  79.5   80.25  81.    81.75\n",
      "  82.5   83.25  84.    84.75  85.5   86.25  87.    87.75  88.5   89.25\n",
      "  90.    90.75  91.5   92.25  93.    93.75  94.5   95.25  96.    96.75\n",
      "  97.5   98.25  99.    99.75 100.5  101.25 102.   102.75 103.5  104.25\n",
      " 105.   105.75 106.5  107.25 108.   108.75 109.5  110.25 111.   111.75\n",
      " 112.5  113.25 114.   114.75 115.5  116.25 117.   117.75 118.5  119.25\n",
      " 120.   120.75 121.5  122.25 123.   123.75 124.5  125.25 126.   126.75\n",
      " 127.5  128.25 129.   129.75 130.5  131.25 132.   132.75 133.5  134.25\n",
      " 135.   135.75 136.5  137.25 138.   138.75 139.5  140.25 141.   141.75\n",
      " 142.5  143.25 144.   144.75 145.5  146.25 147.   147.75 148.5  149.25\n",
      " 150.   150.75 151.5  152.25 153.   153.75 154.5  155.25 156.   156.75\n",
      " 157.5  158.25 159.   159.75 160.5  161.25 162.   162.75 163.5  164.25\n",
      " 165.   165.75 166.5  167.25 168.   168.75 169.5  170.25 171.   171.75\n",
      " 172.5  173.25 174.   174.75 175.5  176.25 177.   177.75 178.5  179.25\n",
      " 180.   180.75 181.5  182.25 183.   183.75 184.5  185.25 186.   186.75\n",
      " 187.5  188.25 189.   189.75 190.5  191.25 192.   192.75 193.5  194.25\n",
      " 195.   195.75 196.5  197.25 198.   198.75 199.5  200.25 201.   201.75\n",
      " 202.5  203.25 204.   204.75 205.5  206.25 207.   207.75 208.5  209.25\n",
      " 210.   210.75 211.5  212.25 213.   213.75 214.5  215.25 216.   216.75\n",
      " 217.5  218.25 219.   219.75 220.5  221.25 222.   222.75 223.5  224.25\n",
      " 225.   225.75 226.5  227.25 228.   228.75 229.5  230.25 231.   231.75\n",
      " 232.5  233.25 234.   234.75 235.5  236.25 237.   237.75 238.5  239.25\n",
      " 240.   240.75 241.5  242.25 243.   243.75 244.5  245.25 246.   246.75\n",
      " 247.5  248.25 249.   249.75 250.5  251.25 252.   252.75 253.5  254.25\n",
      " 255.   255.75 256.5  257.25 258.   258.75 259.5  260.25 261.   261.75\n",
      " 262.5  263.25 264.   264.75 265.5  266.25 267.   267.75 268.5  269.25\n",
      " 270.   270.75 271.5  272.25 273.   273.75 274.5  275.25 276.   276.75\n",
      " 277.5  278.25 279.   279.75 280.5  281.25 282.   282.75 283.5  284.25\n",
      " 285.   285.75 286.5  287.25 288.   288.75 289.5  290.25 291.   291.75\n",
      " 292.5  293.25 294.   294.75 295.5  296.25 297.   297.75 298.5  299.25\n",
      " 300.   300.75 301.5  302.25 303.   303.75 304.5  305.25 306.   306.75\n",
      " 307.5  308.25 309.   309.75 310.5  311.25 312.   312.75 313.5  314.25\n",
      " 315.   315.75 316.5  317.25 318.   318.75 319.5  320.25 321.   321.75\n",
      " 322.5  323.25 324.   324.75 325.5  326.25 327.   327.75 328.5  329.25\n",
      " 330.   330.75 331.5  332.25 333.   333.75 334.5  335.25 336.   336.75\n",
      " 337.5  338.25 339.   339.75 340.5  341.25 342.   342.75 343.5  344.25\n",
      " 345.   345.75 346.5  347.25 348.   348.75 349.5  350.25 351.   351.75\n",
      " 352.5  353.25 354.   354.75 355.5  356.25 357.   357.75 358.5  359.25]\n"
     ]
    }
   ],
   "source": [
    "import netCDF4 as nc\n",
    "\n",
    "# Abrindo um arquivo NetCDF\n",
    "dataset = nc.Dataset(r'C:\\Users\\Valmerson\\Documents\\GitHub\\raymondmatthewshorton2020_sciadv\\Data\\era_area.nc')\n",
    "\n",
    "# Visualizando as variáveis no arquivo\n",
    "print(dataset.variables.keys())\n",
    "\n",
    "# # Acessando uma variável específica\n",
    "temp = dataset.variables['longitude'][:]\n",
    "print(temp)"
   ]
  },
  {
   "cell_type": "code",
   "execution_count": 3,
   "metadata": {},
   "outputs": [
    {
     "data": {
      "text/plain": [
       "<class 'netCDF4._netCDF4.Dataset'>\n",
       "root group (NETCDF3_64BIT_OFFSET data model, file format NETCDF3):\n",
       "    CDI: Climate Data Interface version ?? (http://mpimet.mpg.de/cdi)\n",
       "    Conventions: CF-1.4\n",
       "    history: Fri Dec 07 14:10:41 2018: cdo gridarea land_mask.nc era_area.nc\n",
       "2018-12-06 18:11:06 GMT by grib_to_netcdf-2.9.2: grib_to_netcdf /data/data02/scratch/57/4b/_mars-atls18-a82bacafb5c306db76464bc7e824bb75-3tfcpi.grib -o /data/data03/scratch/86/9d/_grib2netcdf-atls18-98f536083ae965b31b0d04811be6f4c6-MRLgU0.nc -utime\n",
       "    CDO: Climate Data Operators version 1.7.0 (http://mpimet.mpg.de/cdo)\n",
       "    dimensions(sizes): longitude(480), latitude(241)\n",
       "    variables(dimensions): float32 longitude(longitude), float32 latitude(latitude), float64 cell_area(latitude, longitude)\n",
       "    groups: "
      ]
     },
     "execution_count": 3,
     "metadata": {},
     "output_type": "execute_result"
    }
   ],
   "source": [
    "dataset"
   ]
  },
  {
   "cell_type": "code",
   "execution_count": 5,
   "metadata": {},
   "outputs": [
    {
     "name": "stdout",
     "output_type": "stream",
     "text": [
      "Frozen({'longitude': <xarray.IndexVariable 'longitude' (longitude: 480)> Size: 2kB\n",
      "array([  0.  ,   0.75,   1.5 , ..., 357.75, 358.5 , 359.25], dtype=float32)\n",
      "Attributes:\n",
      "    standard_name:  longitude\n",
      "    long_name:      longitude\n",
      "    units:          degrees_east\n",
      "    axis:           X, 'latitude': <xarray.IndexVariable 'latitude' (latitude: 241)> Size: 964B\n",
      "array([ 90.  ,  89.25,  88.5 , ..., -88.5 , -89.25, -90.  ], dtype=float32)\n",
      "Attributes:\n",
      "    standard_name:  latitude\n",
      "    long_name:      latitude\n",
      "    units:          degrees_north\n",
      "    axis:           Y, 'cell_area': <xarray.Variable (latitude: 241, longitude: 480)> Size: 925kB\n",
      "[115680 values with dtype=float64]\n",
      "Attributes:\n",
      "    standard_name:  area\n",
      "    long_name:      area of grid cell\n",
      "    units:          m2})\n",
      "   longitude  latitude     cell_area\n",
      "0        0.0     90.00  1.137960e+07\n",
      "1        0.0     89.25  9.103391e+07\n",
      "2        0.0     88.50  1.820522e+08\n",
      "3        0.0     87.75  2.730394e+08\n",
      "4        0.0     87.00  3.639797e+08\n"
     ]
    }
   ],
   "source": [
    "import xarray as xr\n",
    "import pandas as pd\n",
    "\n",
    "# Abrindo o arquivo NetCDF\n",
    "dataset = xr.open_dataset(r'C:\\Users\\Valmerson\\Documents\\GitHub\\raymondmatthewshorton2020_sciadv\\Data\\era_area.nc')\n",
    "\n",
    "# Visualizando as variáveis no arquivo\n",
    "print(dataset.variables)\n",
    "\n",
    "# Convertendo as variáveis em DataFrame\n",
    "df = dataset.to_dataframe().reset_index()\n",
    "\n",
    "print(df.head())"
   ]
  },
  {
   "cell_type": "code",
   "execution_count": 6,
   "metadata": {},
   "outputs": [
    {
     "data": {
      "text/html": [
       "<div>\n",
       "<style scoped>\n",
       "    .dataframe tbody tr th:only-of-type {\n",
       "        vertical-align: middle;\n",
       "    }\n",
       "\n",
       "    .dataframe tbody tr th {\n",
       "        vertical-align: top;\n",
       "    }\n",
       "\n",
       "    .dataframe thead th {\n",
       "        text-align: right;\n",
       "    }\n",
       "</style>\n",
       "<table border=\"1\" class=\"dataframe\">\n",
       "  <thead>\n",
       "    <tr style=\"text-align: right;\">\n",
       "      <th></th>\n",
       "      <th>longitude</th>\n",
       "      <th>latitude</th>\n",
       "      <th>cell_area</th>\n",
       "    </tr>\n",
       "  </thead>\n",
       "  <tbody>\n",
       "    <tr>\n",
       "      <th>0</th>\n",
       "      <td>0.00</td>\n",
       "      <td>90.00</td>\n",
       "      <td>1.137960e+07</td>\n",
       "    </tr>\n",
       "    <tr>\n",
       "      <th>1</th>\n",
       "      <td>0.00</td>\n",
       "      <td>89.25</td>\n",
       "      <td>9.103391e+07</td>\n",
       "    </tr>\n",
       "    <tr>\n",
       "      <th>2</th>\n",
       "      <td>0.00</td>\n",
       "      <td>88.50</td>\n",
       "      <td>1.820522e+08</td>\n",
       "    </tr>\n",
       "    <tr>\n",
       "      <th>3</th>\n",
       "      <td>0.00</td>\n",
       "      <td>87.75</td>\n",
       "      <td>2.730394e+08</td>\n",
       "    </tr>\n",
       "    <tr>\n",
       "      <th>4</th>\n",
       "      <td>0.00</td>\n",
       "      <td>87.00</td>\n",
       "      <td>3.639797e+08</td>\n",
       "    </tr>\n",
       "    <tr>\n",
       "      <th>...</th>\n",
       "      <td>...</td>\n",
       "      <td>...</td>\n",
       "      <td>...</td>\n",
       "    </tr>\n",
       "    <tr>\n",
       "      <th>115675</th>\n",
       "      <td>359.25</td>\n",
       "      <td>-87.00</td>\n",
       "      <td>3.639797e+08</td>\n",
       "    </tr>\n",
       "    <tr>\n",
       "      <th>115676</th>\n",
       "      <td>359.25</td>\n",
       "      <td>-87.75</td>\n",
       "      <td>2.730394e+08</td>\n",
       "    </tr>\n",
       "    <tr>\n",
       "      <th>115677</th>\n",
       "      <td>359.25</td>\n",
       "      <td>-88.50</td>\n",
       "      <td>1.820522e+08</td>\n",
       "    </tr>\n",
       "    <tr>\n",
       "      <th>115678</th>\n",
       "      <td>359.25</td>\n",
       "      <td>-89.25</td>\n",
       "      <td>9.103391e+07</td>\n",
       "    </tr>\n",
       "    <tr>\n",
       "      <th>115679</th>\n",
       "      <td>359.25</td>\n",
       "      <td>-90.00</td>\n",
       "      <td>1.137960e+07</td>\n",
       "    </tr>\n",
       "  </tbody>\n",
       "</table>\n",
       "<p>115680 rows × 3 columns</p>\n",
       "</div>"
      ],
      "text/plain": [
       "        longitude  latitude     cell_area\n",
       "0            0.00     90.00  1.137960e+07\n",
       "1            0.00     89.25  9.103391e+07\n",
       "2            0.00     88.50  1.820522e+08\n",
       "3            0.00     87.75  2.730394e+08\n",
       "4            0.00     87.00  3.639797e+08\n",
       "...           ...       ...           ...\n",
       "115675     359.25    -87.00  3.639797e+08\n",
       "115676     359.25    -87.75  2.730394e+08\n",
       "115677     359.25    -88.50  1.820522e+08\n",
       "115678     359.25    -89.25  9.103391e+07\n",
       "115679     359.25    -90.00  1.137960e+07\n",
       "\n",
       "[115680 rows x 3 columns]"
      ]
     },
     "execution_count": 6,
     "metadata": {},
     "output_type": "execute_result"
    }
   ],
   "source": [
    "df"
   ]
  },
  {
   "cell_type": "code",
   "execution_count": 7,
   "metadata": {},
   "outputs": [
    {
     "name": "stdout",
     "output_type": "stream",
     "text": [
      "   longitude  latitude    cell_area\n",
      "0       0.00     90.00  11379604.38\n",
      "1       0.00     89.25  91033910.99\n",
      "2       0.00     88.50 182052227.80\n",
      "3       0.00     87.75 273039358.90\n",
      "4       0.00     87.00 363979718.11\n"
     ]
    }
   ],
   "source": [
    "#Codificando \"nc\" para um df: aparentemente é a área de cada célula da grade do ERA \"ECMWF ReAnalysis\" - \n",
    "#(Centro Europeu de Previsão do Tempo a Médio Prazo)\n",
    "\n",
    "import xarray as xr\n",
    "import pandas as pd\n",
    "\n",
    "# Abrindo o arquivo NetCDF\n",
    "dataset = xr.open_dataset(r'C:\\Users\\Valmerson\\Documents\\GitHub\\raymondmatthewshorton2020_sciadv\\Data\\era_area.nc')\n",
    "\n",
    "# Convertendo as variáveis em DataFrame\n",
    "df = dataset.to_dataframe().reset_index()\n",
    "\n",
    "# Configurando o Pandas para exibir números em ponto flutuante com 2 casas decimais\n",
    "pd.options.display.float_format = '{:.2f}'.format\n",
    "\n",
    "# Exibindo o DataFrame\n",
    "print(df.head())\n"
   ]
  },
  {
   "cell_type": "code",
   "execution_count": null,
   "metadata": {},
   "outputs": [],
   "source": [
    "# Abrindo o arquivo NetCDF\n",
    "dataset = xr.open_dataset(r'C:\\Users\\Valmerson\\Documents\\GitHub\\raymondmatthewshorton2020_sciadv\\Data\\era_area.nc')\n",
    "\n",
    "# Convertendo as variáveis em DataFrame\n",
    "df = dataset.to_dataframe().reset_index()\n",
    "\n",
    "# Configurando o Pandas para exibir números em ponto flutuante com 2 casas decimais\n",
    "pd.options.display.float_format = '{:.2f}'.format\n",
    "\n",
    "# Exibindo o DataFrame\n",
    "print(df.head())"
   ]
  }
 ],
 "metadata": {
  "kernelspec": {
   "display_name": "Python 3",
   "language": "python",
   "name": "python3"
  },
  "language_info": {
   "codemirror_mode": {
    "name": "ipython",
    "version": 3
   },
   "file_extension": ".py",
   "mimetype": "text/x-python",
   "name": "python",
   "nbconvert_exporter": "python",
   "pygments_lexer": "ipython3",
   "version": "3.11.8"
  }
 },
 "nbformat": 4,
 "nbformat_minor": 2
}
